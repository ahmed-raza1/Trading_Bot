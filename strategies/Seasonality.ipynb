{
 "cells": [
  {
   "cell_type": "markdown",
   "metadata": {},
   "source": [
    "# Seasonality in Trading Instruments"
   ]
  },
  {
   "cell_type": "code",
   "execution_count": 1,
   "metadata": {},
   "outputs": [],
   "source": [
    "import pandas as pd\n",
    "import matplotlib.pyplot as plt\n",
    "from pandas_datareader import data\n"
   ]
  },
  {
   "cell_type": "code",
   "execution_count": 5,
   "metadata": {},
   "outputs": [
    {
     "name": "stdout",
     "output_type": "stream",
     "text": [
      "File not found...downloading the GOOG data\n"
     ]
    }
   ],
   "source": [
    "start_date = '2001-01-01'\n",
    "end_date = '2018-01-01'\n",
    "try:\n",
    " goog_data = pd.read_pickle(SRC_DATA_FILENAME)\n",
    " print('File data found...reading GOOG data')\n",
    "except FileNotFoundError:\n",
    " print('File not found...downloading the GOOG data')\n",
    " goog_data = data.DataReader('GOOG', 'yahoo', start_date,\n",
    "end_date)\n",
    " goog_data.to_pickle(SRC_DATA_FILENAME)"
   ]
  },
  {
   "cell_type": "code",
   "execution_count": null,
   "metadata": {},
   "outputs": [],
   "source": []
  }
 ],
 "metadata": {
  "kernelspec": {
   "display_name": "Python 3",
   "language": "python",
   "name": "python3"
  },
  "language_info": {
   "codemirror_mode": {
    "name": "ipython",
    "version": 3
   },
   "file_extension": ".py",
   "mimetype": "text/x-python",
   "name": "python",
   "nbconvert_exporter": "python",
   "pygments_lexer": "ipython3",
   "version": "3.8.5"
  }
 },
 "nbformat": 4,
 "nbformat_minor": 4
}
