{
 "cells": [
  {
   "cell_type": "markdown",
   "id": "personal-pricing",
   "metadata": {},
   "source": [
    "# SETTING UP API"
   ]
  },
  {
   "cell_type": "markdown",
   "id": "undefined-medicine",
   "metadata": {},
   "source": [
    "1. import several libraries:"
   ]
  },
  {
   "cell_type": "code",
   "execution_count": 1,
   "id": "premier-fisher",
   "metadata": {},
   "outputs": [],
   "source": [
    "import numpy as np #The Numpy numerical computing library\n",
    "import pandas as pd #The Pandas data science library\n",
    "import requests #The requests library for HTTP requests in Python\n",
    "import xlsxwriter #The XlsxWriter libarary for \n",
    "import math #The Python math module"
   ]
  },
  {
   "cell_type": "markdown",
   "id": "sustainable-passion",
   "metadata": {},
   "source": [
    "2. set up"
   ]
  },
  {
   "cell_type": "code",
   "execution_count": 2,
   "id": "empty-exchange",
   "metadata": {
    "tags": []
   },
   "outputs": [],
   "source": [
    "# # stock = 'http://finance.yahoo.com/d/quotes.csv?s=<股票名称>&f=<数据列选项>'\n",
    "# # stock_url = 'http://finance.yahoo.com/d/quotes.csv?s=AAPLr'\n",
    "# test = 'http://ichart.yahoo.com/table.csv?s=<string>&a=<int>&b=<int>&c=<int>&d=<int>&e=<int>&f=<int>&g=d&ignore=.csv'\n",
    "# data = requests.get(test).json()\n",
    "# data"
   ]
  },
  {
   "cell_type": "markdown",
   "id": "traditional-morning",
   "metadata": {},
   "source": [
    "''' on website rapid API - https://rapidapi.com/sparior/api/yahoo-finance15/ '''"
   ]
  },
  {
   "cell_type": "code",
   "execution_count": 3,
   "id": "suited-crime",
   "metadata": {
    "tags": []
   },
   "outputs": [],
   "source": [
    "''' import news for testing '''\n",
    "# import requests\n",
    "\n",
    "url = \"https://yahoo-finance15.p.rapidapi.com/api/yahoo/ne/news\"\n",
    "\n",
    "headers = {\n",
    "    'x-rapidapi-key': \"9f6fae673emsha786afc58b93082p1c5fb8jsn4ec87b939b9a\",\n",
    "    'x-rapidapi-host': \"yahoo-finance15.p.rapidapi.com\"\n",
    "    }\n",
    "\n",
    "response = requests.request(\"GET\", url, headers=headers)\n",
    "\n",
    "# print(response.text)"
   ]
  },
  {
   "cell_type": "code",
   "execution_count": 4,
   "id": "behind-combining",
   "metadata": {
    "tags": []
   },
   "outputs": [
    {
     "data": {
      "text/plain": [
       "[{'ask': 145.1,\n",
       "  'askSize': 13,\n",
       "  'averageDailyVolume10Day': 88213185,\n",
       "  'averageDailyVolume3Month': 85057328,\n",
       "  'bid': 145.1,\n",
       "  'bidSize': 18,\n",
       "  'bookValue': 4.146,\n",
       "  'currency': 'USD',\n",
       "  'dividendDate': {'date': '2021-05-13 00:00:00.000000',\n",
       "   'timezone_type': 1,\n",
       "   'timezone': '+00:00'},\n",
       "  'earningsTimestamp': {'date': '2021-07-27 16:30:00.000000',\n",
       "   'timezone_type': 1,\n",
       "   'timezone': '+00:00'},\n",
       "  'earningsTimestampStart': {'date': '2021-10-27 10:59:00.000000',\n",
       "   'timezone_type': 1,\n",
       "   'timezone': '+00:00'},\n",
       "  'earningsTimestampEnd': {'date': '2021-11-01 12:00:00.000000',\n",
       "   'timezone_type': 1,\n",
       "   'timezone': '+00:00'},\n",
       "  'epsForward': 5.34,\n",
       "  'epsTrailingTwelveMonths': 4.449,\n",
       "  'exchange': 'NMS',\n",
       "  'exchangeDataDelayedBy': 0,\n",
       "  'exchangeTimezoneName': 'America/New_York',\n",
       "  'exchangeTimezoneShortName': 'EDT',\n",
       "  'fiftyDayAverage': 138.45343,\n",
       "  'fiftyDayAverageChange': 6.5265656,\n",
       "  'fiftyDayAverageChangePercent': 0.047139067,\n",
       "  'fiftyTwoWeekHigh': 150,\n",
       "  'fiftyTwoWeekHighChange': -5.0200043,\n",
       "  'fiftyTwoWeekHighChangePercent': -0.033466697,\n",
       "  'fiftyTwoWeekLow': 93.7125,\n",
       "  'fiftyTwoWeekLowChange': 51.267494,\n",
       "  'fiftyTwoWeekLowChangePercent': 0.5470721,\n",
       "  'financialCurrency': 'USD',\n",
       "  'forwardPE': 27.14981,\n",
       "  'fullExchangeName': 'NasdaqGS',\n",
       "  'gmtOffSetMilliseconds': -14400000,\n",
       "  'language': 'en-US',\n",
       "  'longName': 'Apple Inc.',\n",
       "  'market': 'us_market',\n",
       "  'marketCap': 2419368132608,\n",
       "  'marketState': 'POST',\n",
       "  'messageBoardId': 'finmb_24937',\n",
       "  'postMarketChange': 0.08000183,\n",
       "  'postMarketChangePercent': 0.05518129,\n",
       "  'postMarketPrice': 145.06,\n",
       "  'postMarketTime': {'date': '2021-07-28 22:55:11.000000',\n",
       "   'timezone_type': 1,\n",
       "   'timezone': '+00:00'},\n",
       "  'priceHint': 2,\n",
       "  'priceToBook': 34.968643,\n",
       "  'quoteSourceName': 'Nasdaq Real Time Price',\n",
       "  'quoteType': 'EQUITY',\n",
       "  'regularMarketChange': -1.7900085,\n",
       "  'regularMarketChangePercent': -1.219601,\n",
       "  'regularMarketDayHigh': 146.96,\n",
       "  'regularMarketDayLow': 142.54,\n",
       "  'regularMarketOpen': 144.81,\n",
       "  'regularMarketPreviousClose': 146.77,\n",
       "  'regularMarketPrice': 144.98,\n",
       "  'regularMarketTime': {'date': '2021-07-28 20:00:01.000000',\n",
       "   'timezone_type': 1,\n",
       "   'timezone': '+00:00'},\n",
       "  'regularMarketVolume': 113982837,\n",
       "  'sharesOutstanding': 16687599616,\n",
       "  'shortName': 'Apple Inc.',\n",
       "  'sourceInterval': 15,\n",
       "  'symbol': 'AAPL',\n",
       "  'tradeable': False,\n",
       "  'trailingAnnualDividendRate': 0.82,\n",
       "  'trailingAnnualDividendYield': 0.0055869725,\n",
       "  'trailingPE': 32.587097,\n",
       "  'twoHundredDayAverage': 131.05212,\n",
       "  'twoHundredDayAverageChange': 13.927872,\n",
       "  'twoHundredDayAverageChangePercent': 0.10627735}]"
      ]
     },
     "execution_count": 4,
     "metadata": {},
     "output_type": "execute_result"
    }
   ],
   "source": [
    "import requests\n",
    "# symbol = 'AAPL,MSFT'  # for test\n",
    "symbol = 'AAPL'\n",
    "url = f\"https://yahoo-finance15.p.rapidapi.com/api/yahoo/qu/quote/{symbol}\"\n",
    "\n",
    "headers = {\n",
    "    'x-rapidapi-key': \"9f6fae673emsha786afc58b93082p1c5fb8jsn4ec87b939b9a\",\n",
    "    'x-rapidapi-host': \"yahoo-finance15.p.rapidapi.com\"\n",
    "    }\n",
    "\n",
    "response = requests.request(\"GET\", url, headers=headers)\n",
    "\n",
    "# print(response.text)\n",
    "# data = response.text\n",
    "data = response.json()\n",
    "# print(data)  # list\n",
    "data\n",
    "# print(type(data))"
   ]
  },
  {
   "cell_type": "code",
   "execution_count": 5,
   "id": "assisted-vessel",
   "metadata": {},
   "outputs": [
    {
     "data": {
      "text/html": [
       "<div>\n",
       "<style scoped>\n",
       "    .dataframe tbody tr th:only-of-type {\n",
       "        vertical-align: middle;\n",
       "    }\n",
       "\n",
       "    .dataframe tbody tr th {\n",
       "        vertical-align: top;\n",
       "    }\n",
       "\n",
       "    .dataframe thead th {\n",
       "        text-align: right;\n",
       "    }\n",
       "</style>\n",
       "<table border=\"1\" class=\"dataframe\">\n",
       "  <thead>\n",
       "    <tr style=\"text-align: right;\">\n",
       "      <th></th>\n",
       "      <th>Ticker</th>\n",
       "      <th>Price</th>\n",
       "      <th>Market Capitalization</th>\n",
       "      <th>Number Of Shares to Buy</th>\n",
       "    </tr>\n",
       "  </thead>\n",
       "  <tbody>\n",
       "  </tbody>\n",
       "</table>\n",
       "</div>"
      ],
      "text/plain": [
       "Empty DataFrame\n",
       "Columns: [Ticker, Price, Market Capitalization, Number Of Shares to Buy]\n",
       "Index: []"
      ]
     },
     "execution_count": 5,
     "metadata": {},
     "output_type": "execute_result"
    }
   ],
   "source": [
    "''' dataframe '''\n",
    "# df = data\n",
    "# df\n",
    "my_columns = ['Ticker', 'Price','Market Capitalization', 'Number Of Shares to Buy']\n",
    "df = pd.DataFrame(columns = my_columns)\n",
    "df"
   ]
  },
  {
   "cell_type": "code",
   "execution_count": 6,
   "id": "rising-pulse",
   "metadata": {},
   "outputs": [
    {
     "data": {
      "text/html": [
       "<div>\n",
       "<style scoped>\n",
       "    .dataframe tbody tr th:only-of-type {\n",
       "        vertical-align: middle;\n",
       "    }\n",
       "\n",
       "    .dataframe tbody tr th {\n",
       "        vertical-align: top;\n",
       "    }\n",
       "\n",
       "    .dataframe thead th {\n",
       "        text-align: right;\n",
       "    }\n",
       "</style>\n",
       "<table border=\"1\" class=\"dataframe\">\n",
       "  <thead>\n",
       "    <tr style=\"text-align: right;\">\n",
       "      <th></th>\n",
       "      <th>Ticker</th>\n",
       "      <th>Price</th>\n",
       "      <th>Market Capitalization</th>\n",
       "      <th>Number Of Shares to Buy</th>\n",
       "    </tr>\n",
       "  </thead>\n",
       "  <tbody>\n",
       "    <tr>\n",
       "      <th>0</th>\n",
       "      <td>AAPL</td>\n",
       "      <td>145.1</td>\n",
       "      <td>2419368132608</td>\n",
       "      <td>N/A</td>\n",
       "    </tr>\n",
       "  </tbody>\n",
       "</table>\n",
       "</div>"
      ],
      "text/plain": [
       "  Ticker  Price Market Capitalization Number Of Shares to Buy\n",
       "0   AAPL  145.1         2419368132608                     N/A"
      ]
     },
     "execution_count": 6,
     "metadata": {},
     "output_type": "execute_result"
    }
   ],
   "source": [
    "df = df.append(\n",
    "                                        pd.Series(['AAPL', \n",
    "                                                   data[0]['ask'], \n",
    "                                                   data[0]['marketCap'], \n",
    "                                                   'N/A'], \n",
    "                                                  index = my_columns), \n",
    "                                        ignore_index = True)\n",
    "df"
   ]
  },
  {
   "cell_type": "markdown",
   "id": "dedicated-antibody",
   "metadata": {},
   "source": [
    "## ====================================================="
   ]
  },
  {
   "cell_type": "code",
   "execution_count": 18,
   "id": "medieval-enhancement",
   "metadata": {},
   "outputs": [
    {
     "name": "stdout",
     "output_type": "stream",
     "text": [
      "<class 'pandas.core.frame.DataFrame'>\n"
     ]
    }
   ],
   "source": [
    "''' import 500 stocks' name'''\n",
    "stocks = pd.read_csv('sp_500_stocks.csv')\n",
    "print(type(stocks))"
   ]
  },
  {
   "cell_type": "code",
   "execution_count": 22,
   "id": "mechanical-relay",
   "metadata": {},
   "outputs": [
    {
     "name": "stdout",
     "output_type": "stream",
     "text": [
      "    Ticker\n",
      "0        A\n",
      "1      AAL\n",
      "2      AAP\n",
      "3     AAPL\n",
      "4     ABBV\n",
      "..     ...\n",
      "500    YUM\n",
      "501    ZBH\n",
      "502   ZBRA\n",
      "503   ZION\n",
      "504    ZTS\n",
      "\n",
      "[505 rows x 1 columns]\n"
     ]
    }
   ],
   "source": [
    "print(stocks)"
   ]
  },
  {
   "cell_type": "code",
   "execution_count": 8,
   "id": "mounted-cedar",
   "metadata": {
    "jupyter": {
     "source_hidden": true
    },
    "tags": []
   },
   "outputs": [],
   "source": [
    "# Function sourced from \n",
    "# https://stackoverflow.com/questions/312443/how-do-you-split-a-list-into-evenly-sized-chunks\n",
    "def chunks(lst, n):\n",
    "    \"\"\"Yield successive n-sized chunks from lst.\"\"\"\n",
    "    for i in range(0, len(lst), n):\n",
    "        yield lst[i:i + n]"
   ]
  },
  {
   "cell_type": "code",
   "execution_count": 30,
   "id": "alert-painting",
   "metadata": {},
   "outputs": [
    {
     "ename": "KeyError",
     "evalue": "0",
     "output_type": "error",
     "traceback": [
      "\u001b[1;31m---------------------------------------------------------------------------\u001b[0m",
      "\u001b[1;31mKeyError\u001b[0m                                  Traceback (most recent call last)",
      "\u001b[1;32m<ipython-input-30-7e1e40f0d2bd>\u001b[0m in \u001b[0;36m<module>\u001b[1;34m\u001b[0m\n\u001b[0;32m     22\u001b[0m     dfnew = dfnew.append(\n\u001b[0;32m     23\u001b[0m                                         pd.Series([symbol_string, \n\u001b[1;32m---> 24\u001b[1;33m                                                    \u001b[0mdata_tmp\u001b[0m\u001b[1;33m[\u001b[0m\u001b[1;36m0\u001b[0m\u001b[1;33m]\u001b[0m\u001b[1;33m[\u001b[0m\u001b[1;34m'ask'\u001b[0m\u001b[1;33m]\u001b[0m\u001b[1;33m,\u001b[0m\u001b[1;33m\u001b[0m\u001b[1;33m\u001b[0m\u001b[0m\n\u001b[0m\u001b[0;32m     25\u001b[0m                                                    \u001b[0mdata_tmp\u001b[0m\u001b[1;33m[\u001b[0m\u001b[1;36m0\u001b[0m\u001b[1;33m]\u001b[0m\u001b[1;33m[\u001b[0m\u001b[1;34m'marketCap'\u001b[0m\u001b[1;33m]\u001b[0m\u001b[1;33m,\u001b[0m\u001b[1;33m\u001b[0m\u001b[1;33m\u001b[0m\u001b[0m\n\u001b[0;32m     26\u001b[0m                                                    'N/A'], \n",
      "\u001b[1;31mKeyError\u001b[0m: 0"
     ]
    }
   ],
   "source": [
    "# symbol_groups = list(chunks(stocks['Ticker'], 100))\n",
    "# symbol_strings = []\n",
    "# for i in range(0, len(symbol_groups)):\n",
    "#     symbol_strings.append(','.join(symbol_groups[i]))\n",
    "# #     print(symbol_strings[i])\n",
    "\n",
    "# final_dataframe = pd.DataFrame(columns = my_columns)\n",
    "dfnew = pd.DataFrame(columns = my_columns)\n",
    "# for symbol_string in symbol_strings:\n",
    "for symbol_string in stocks['Ticker'][:100]:\n",
    "#     print(symbol_strings)\n",
    "    batch_api_call_url = f\"https://yahoo-finance15.p.rapidapi.com/api/yahoo/qu/quote/{symbol_string}\"\n",
    "    headers = {\n",
    "    'x-rapidapi-key': \"9f6fae673emsha786afc58b93082p1c5fb8jsn4ec87b939b9a\",\n",
    "    'x-rapidapi-host': \"yahoo-finance15.p.rapidapi.com\"\n",
    "    }\n",
    "\n",
    "    response_tmp = requests.request(\"GET\", batch_api_call_url, headers=headers)\n",
    "\n",
    "    data_tmp = response_tmp.json()\n",
    "#     print(data_tmp)\n",
    "    if data_tmp == '':\n",
    "        pass\n",
    "    else:\n",
    "        dfnew = dfnew.append(\n",
    "                                            pd.Series([symbol_string, \n",
    "                                                       data_tmp[0]['ask'], \n",
    "                                                       data_tmp[0]['marketCap'], \n",
    "                                                       'N/A'], \n",
    "                                                      index = my_columns), \n",
    "                                            ignore_index = True)\n",
    "#     print(dfnew)\n",
    "#     for symbol in symbol_string.split(','):\n",
    "#         final_dataframe = final_dataframe.append(\n",
    "#                                         pd.Series([symbol, \n",
    "#                                                    data[0][symbol]['quote']['ask'], \n",
    "#                                                    data[0][symbol]['quote']['marketCap'], \n",
    "#                                                    'N/A'], \n",
    "#                                                   index = my_columns), \n",
    "#                                         ignore_index = True)\n",
    "        \n",
    "    \n",
    "# final_dataframe\n",
    "dfnew"
   ]
  },
  {
   "cell_type": "code",
   "execution_count": 31,
   "id": "studied-physiology",
   "metadata": {},
   "outputs": [
    {
     "data": {
      "text/html": [
       "<div>\n",
       "<style scoped>\n",
       "    .dataframe tbody tr th:only-of-type {\n",
       "        vertical-align: middle;\n",
       "    }\n",
       "\n",
       "    .dataframe tbody tr th {\n",
       "        vertical-align: top;\n",
       "    }\n",
       "\n",
       "    .dataframe thead th {\n",
       "        text-align: right;\n",
       "    }\n",
       "</style>\n",
       "<table border=\"1\" class=\"dataframe\">\n",
       "  <thead>\n",
       "    <tr style=\"text-align: right;\">\n",
       "      <th></th>\n",
       "      <th>Ticker</th>\n",
       "      <th>Price</th>\n",
       "      <th>Market Capitalization</th>\n",
       "      <th>Number Of Shares to Buy</th>\n",
       "    </tr>\n",
       "  </thead>\n",
       "  <tbody>\n",
       "    <tr>\n",
       "      <th>0</th>\n",
       "      <td>A</td>\n",
       "      <td>154.50</td>\n",
       "      <td>45959479296</td>\n",
       "      <td>N/A</td>\n",
       "    </tr>\n",
       "    <tr>\n",
       "      <th>1</th>\n",
       "      <td>AAL</td>\n",
       "      <td>21.64</td>\n",
       "      <td>14004515840</td>\n",
       "      <td>N/A</td>\n",
       "    </tr>\n",
       "    <tr>\n",
       "      <th>2</th>\n",
       "      <td>AAP</td>\n",
       "      <td>213.28</td>\n",
       "      <td>13889406976</td>\n",
       "      <td>N/A</td>\n",
       "    </tr>\n",
       "    <tr>\n",
       "      <th>3</th>\n",
       "      <td>AAPL</td>\n",
       "      <td>145.08</td>\n",
       "      <td>2419368132608</td>\n",
       "      <td>N/A</td>\n",
       "    </tr>\n",
       "    <tr>\n",
       "      <th>4</th>\n",
       "      <td>ABBV</td>\n",
       "      <td>118.88</td>\n",
       "      <td>209385390080</td>\n",
       "      <td>N/A</td>\n",
       "    </tr>\n",
       "    <tr>\n",
       "      <th>...</th>\n",
       "      <td>...</td>\n",
       "      <td>...</td>\n",
       "      <td>...</td>\n",
       "      <td>...</td>\n",
       "    </tr>\n",
       "    <tr>\n",
       "      <th>64</th>\n",
       "      <td>BK</td>\n",
       "      <td>50.30</td>\n",
       "      <td>43460808704</td>\n",
       "      <td>N/A</td>\n",
       "    </tr>\n",
       "    <tr>\n",
       "      <th>65</th>\n",
       "      <td>BKNG</td>\n",
       "      <td>2287.44</td>\n",
       "      <td>91397087232</td>\n",
       "      <td>N/A</td>\n",
       "    </tr>\n",
       "    <tr>\n",
       "      <th>66</th>\n",
       "      <td>BKR</td>\n",
       "      <td>21.01</td>\n",
       "      <td>21892710400</td>\n",
       "      <td>N/A</td>\n",
       "    </tr>\n",
       "    <tr>\n",
       "      <th>67</th>\n",
       "      <td>BLK</td>\n",
       "      <td>870.00</td>\n",
       "      <td>131085279232</td>\n",
       "      <td>N/A</td>\n",
       "    </tr>\n",
       "    <tr>\n",
       "      <th>68</th>\n",
       "      <td>BLL</td>\n",
       "      <td>81.29</td>\n",
       "      <td>26644457472</td>\n",
       "      <td>N/A</td>\n",
       "    </tr>\n",
       "  </tbody>\n",
       "</table>\n",
       "<p>69 rows × 4 columns</p>\n",
       "</div>"
      ],
      "text/plain": [
       "   Ticker    Price Market Capitalization Number Of Shares to Buy\n",
       "0       A   154.50           45959479296                     N/A\n",
       "1     AAL    21.64           14004515840                     N/A\n",
       "2     AAP   213.28           13889406976                     N/A\n",
       "3    AAPL   145.08         2419368132608                     N/A\n",
       "4    ABBV   118.88          209385390080                     N/A\n",
       "..    ...      ...                   ...                     ...\n",
       "64     BK    50.30           43460808704                     N/A\n",
       "65   BKNG  2287.44           91397087232                     N/A\n",
       "66    BKR    21.01           21892710400                     N/A\n",
       "67    BLK   870.00          131085279232                     N/A\n",
       "68    BLL    81.29           26644457472                     N/A\n",
       "\n",
       "[69 rows x 4 columns]"
      ]
     },
     "execution_count": 31,
     "metadata": {},
     "output_type": "execute_result"
    }
   ],
   "source": [
    "dfnew"
   ]
  },
  {
   "cell_type": "code",
   "execution_count": 36,
   "id": "yellow-colonial",
   "metadata": {},
   "outputs": [
    {
     "name": "stdout",
     "output_type": "stream",
     "text": [
      "{'message': 'You have exceeded the MONTHLY quota for Request on your current plan, BASIC. Upgrade your plan at https://rapidapi.com/sparior/api/yahoo-finance15'}\n"
     ]
    }
   ],
   "source": [
    "\n",
    "batch_api_call_url = f\"https://yahoo-finance15.p.rapidapi.com/api/yahoo/qu/quote/{stocks['Ticker'][1]}\"\n",
    "headers = {\n",
    "'x-rapidapi-key': \"9f6fae673emsha786afc58b93082p1c5fb8jsn4ec87b939b9a\",\n",
    "'x-rapidapi-host': \"yahoo-finance15.p.rapidapi.com\"\n",
    "}\n",
    "\n",
    "response_tmp = requests.request(\"GET\", batch_api_call_url, headers=headers)\n",
    "\n",
    "data_tmp = response_tmp.json()\n",
    "print(data_tmp)"
   ]
  },
  {
   "cell_type": "code",
   "execution_count": 38,
   "id": "protected-jumping",
   "metadata": {},
   "outputs": [
    {
     "name": "stdout",
     "output_type": "stream",
     "text": [
      "69\n"
     ]
    }
   ],
   "source": [
    "''' since free trial so exceeded.. '''\n",
    "print(len(dfnew))"
   ]
  }
 ],
 "metadata": {
  "kernelspec": {
   "display_name": "Python 3",
   "language": "python",
   "name": "python3"
  },
  "language_info": {
   "codemirror_mode": {
    "name": "ipython",
    "version": 3
   },
   "file_extension": ".py",
   "mimetype": "text/x-python",
   "name": "python",
   "nbconvert_exporter": "python",
   "pygments_lexer": "ipython3",
   "version": "3.8.1"
  }
 },
 "nbformat": 4,
 "nbformat_minor": 5
}
