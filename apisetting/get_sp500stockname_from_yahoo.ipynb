{
 "cells": [
  {
   "cell_type": "markdown",
   "id": "alive-october",
   "metadata": {},
   "source": [
    "This is for data getting process:"
   ]
  },
  {
   "cell_type": "code",
   "execution_count": 1,
   "id": "enormous-movie",
   "metadata": {},
   "outputs": [],
   "source": [
    "import numpy as np #The Numpy numerical computing library\n",
    "import pandas as pd #The Pandas data science library\n",
    "import requests #The requests library for HTTP requests in Python\n",
    "import xlsxwriter #The XlsxWriter libarary for \n",
    "import math #The Python math module\n",
    "\n",
    "from pandas_datareader import data\n",
    "import matplotlib.pyplot as plt\n",
    "import statistics as stats"
   ]
  },
  {
   "cell_type": "code",
   "execution_count": 2,
   "id": "sporting-knife",
   "metadata": {},
   "outputs": [],
   "source": [
    "# ''' import 500 stocks' name'''\n",
    "# stocks = pd.read_csv('sp_500_stocks.csv')\n",
    "# print(type(stocks))"
   ]
  },
  {
   "cell_type": "code",
   "execution_count": 3,
   "id": "adopted-juvenile",
   "metadata": {},
   "outputs": [],
   "source": [
    "# print(stocks)"
   ]
  },
  {
   "cell_type": "markdown",
   "id": "received-society",
   "metadata": {},
   "source": [
    "### get data fetched before for test"
   ]
  },
  {
   "cell_type": "code",
   "execution_count": 4,
   "id": "radio-tucson",
   "metadata": {},
   "outputs": [],
   "source": [
    "f2 = open('stocks_overview_json.json', 'r')\n",
    "jsondata = f2.read()\n",
    "f2.close()\n",
    "# jsondata"
   ]
  },
  {
   "cell_type": "code",
   "execution_count": 5,
   "id": "specialized-visibility",
   "metadata": {},
   "outputs": [
    {
     "data": {
      "text/html": [
       "<div>\n",
       "<style scoped>\n",
       "    .dataframe tbody tr th:only-of-type {\n",
       "        vertical-align: middle;\n",
       "    }\n",
       "\n",
       "    .dataframe tbody tr th {\n",
       "        vertical-align: top;\n",
       "    }\n",
       "\n",
       "    .dataframe thead th {\n",
       "        text-align: right;\n",
       "    }\n",
       "</style>\n",
       "<table border=\"1\" class=\"dataframe\">\n",
       "  <thead>\n",
       "    <tr style=\"text-align: right;\">\n",
       "      <th></th>\n",
       "      <th>Ticker</th>\n",
       "      <th>Price</th>\n",
       "      <th>Market Capitalization</th>\n",
       "      <th>Number Of Shares to Buy</th>\n",
       "    </tr>\n",
       "  </thead>\n",
       "  <tbody>\n",
       "    <tr>\n",
       "      <th>0</th>\n",
       "      <td>A</td>\n",
       "      <td>148.94</td>\n",
       "      <td>46496571000</td>\n",
       "      <td>N/A</td>\n",
       "    </tr>\n",
       "    <tr>\n",
       "      <th>1</th>\n",
       "      <td>AAL</td>\n",
       "      <td>18.85</td>\n",
       "      <td>13195193000</td>\n",
       "      <td>N/A</td>\n",
       "    </tr>\n",
       "    <tr>\n",
       "      <th>2</th>\n",
       "      <td>AAP</td>\n",
       "      <td>218.69</td>\n",
       "      <td>13876973000</td>\n",
       "      <td>N/A</td>\n",
       "    </tr>\n",
       "    <tr>\n",
       "      <th>3</th>\n",
       "      <td>AAPL</td>\n",
       "      <td>159.34</td>\n",
       "      <td>2411094868000</td>\n",
       "      <td>N/A</td>\n",
       "    </tr>\n",
       "    <tr>\n",
       "      <th>4</th>\n",
       "      <td>ABBV</td>\n",
       "      <td>124.08</td>\n",
       "      <td>205411402000</td>\n",
       "      <td>N/A</td>\n",
       "    </tr>\n",
       "    <tr>\n",
       "      <th>...</th>\n",
       "      <td>...</td>\n",
       "      <td>...</td>\n",
       "      <td>...</td>\n",
       "      <td>...</td>\n",
       "    </tr>\n",
       "    <tr>\n",
       "      <th>490</th>\n",
       "      <td>YUM</td>\n",
       "      <td>120.90</td>\n",
       "      <td>39141212000</td>\n",
       "      <td>N/A</td>\n",
       "    </tr>\n",
       "    <tr>\n",
       "      <th>491</th>\n",
       "      <td>ZBH</td>\n",
       "      <td>191.19</td>\n",
       "      <td>34070129000</td>\n",
       "      <td>N/A</td>\n",
       "    </tr>\n",
       "    <tr>\n",
       "      <th>492</th>\n",
       "      <td>ZBRA</td>\n",
       "      <td>540.25</td>\n",
       "      <td>29563922000</td>\n",
       "      <td>N/A</td>\n",
       "    </tr>\n",
       "    <tr>\n",
       "      <th>493</th>\n",
       "      <td>ZION</td>\n",
       "      <td>59.98</td>\n",
       "      <td>8461234000</td>\n",
       "      <td>N/A</td>\n",
       "    </tr>\n",
       "    <tr>\n",
       "      <th>494</th>\n",
       "      <td>ZTS</td>\n",
       "      <td>192.81</td>\n",
       "      <td>96235274000</td>\n",
       "      <td>N/A</td>\n",
       "    </tr>\n",
       "  </tbody>\n",
       "</table>\n",
       "<p>495 rows × 4 columns</p>\n",
       "</div>"
      ],
      "text/plain": [
       "    Ticker   Price  Market Capitalization Number Of Shares to Buy\n",
       "0        A  148.94            46496571000                     N/A\n",
       "1      AAL   18.85            13195193000                     N/A\n",
       "2      AAP  218.69            13876973000                     N/A\n",
       "3     AAPL  159.34          2411094868000                     N/A\n",
       "4     ABBV  124.08           205411402000                     N/A\n",
       "..     ...     ...                    ...                     ...\n",
       "490    YUM  120.90            39141212000                     N/A\n",
       "491    ZBH  191.19            34070129000                     N/A\n",
       "492   ZBRA  540.25            29563922000                     N/A\n",
       "493   ZION   59.98             8461234000                     N/A\n",
       "494    ZTS  192.81            96235274000                     N/A\n",
       "\n",
       "[495 rows x 4 columns]"
      ]
     },
     "execution_count": 5,
     "metadata": {},
     "output_type": "execute_result"
    }
   ],
   "source": [
    "import pandas as pd\n",
    "dfre = pd.read_json(jsondata)\n",
    "dfre"
   ]
  },
  {
   "cell_type": "code",
   "execution_count": 6,
   "id": "psychological-natural",
   "metadata": {},
   "outputs": [],
   "source": [
    "# f3 = open('stocks_for_yahoo.csv', 'w')\n",
    "# f3.write(dfre['Ticker'])\n",
    "# f3.close()\n",
    "dfre['Ticker'].to_csv(\"stocks_for_yahoo.csv\", encoding='utf-8', index=None)"
   ]
  },
  {
   "cell_type": "markdown",
   "id": "immediate-inclusion",
   "metadata": {},
   "source": [
    "### get data(names) back"
   ]
  },
  {
   "cell_type": "code",
   "execution_count": 7,
   "id": "fourth-great",
   "metadata": {},
   "outputs": [
    {
     "data": {
      "text/html": [
       "<div>\n",
       "<style scoped>\n",
       "    .dataframe tbody tr th:only-of-type {\n",
       "        vertical-align: middle;\n",
       "    }\n",
       "\n",
       "    .dataframe tbody tr th {\n",
       "        vertical-align: top;\n",
       "    }\n",
       "\n",
       "    .dataframe thead th {\n",
       "        text-align: right;\n",
       "    }\n",
       "</style>\n",
       "<table border=\"1\" class=\"dataframe\">\n",
       "  <thead>\n",
       "    <tr style=\"text-align: right;\">\n",
       "      <th></th>\n",
       "      <th>Ticker</th>\n",
       "    </tr>\n",
       "  </thead>\n",
       "  <tbody>\n",
       "    <tr>\n",
       "      <th>0</th>\n",
       "      <td>A</td>\n",
       "    </tr>\n",
       "    <tr>\n",
       "      <th>1</th>\n",
       "      <td>AAL</td>\n",
       "    </tr>\n",
       "    <tr>\n",
       "      <th>2</th>\n",
       "      <td>AAP</td>\n",
       "    </tr>\n",
       "    <tr>\n",
       "      <th>3</th>\n",
       "      <td>AAPL</td>\n",
       "    </tr>\n",
       "    <tr>\n",
       "      <th>4</th>\n",
       "      <td>ABBV</td>\n",
       "    </tr>\n",
       "    <tr>\n",
       "      <th>...</th>\n",
       "      <td>...</td>\n",
       "    </tr>\n",
       "    <tr>\n",
       "      <th>490</th>\n",
       "      <td>YUM</td>\n",
       "    </tr>\n",
       "    <tr>\n",
       "      <th>491</th>\n",
       "      <td>ZBH</td>\n",
       "    </tr>\n",
       "    <tr>\n",
       "      <th>492</th>\n",
       "      <td>ZBRA</td>\n",
       "    </tr>\n",
       "    <tr>\n",
       "      <th>493</th>\n",
       "      <td>ZION</td>\n",
       "    </tr>\n",
       "    <tr>\n",
       "      <th>494</th>\n",
       "      <td>ZTS</td>\n",
       "    </tr>\n",
       "  </tbody>\n",
       "</table>\n",
       "<p>495 rows × 1 columns</p>\n",
       "</div>"
      ],
      "text/plain": [
       "    Ticker\n",
       "0        A\n",
       "1      AAL\n",
       "2      AAP\n",
       "3     AAPL\n",
       "4     ABBV\n",
       "..     ...\n",
       "490    YUM\n",
       "491    ZBH\n",
       "492   ZBRA\n",
       "493   ZION\n",
       "494    ZTS\n",
       "\n",
       "[495 rows x 1 columns]"
      ]
     },
     "execution_count": 7,
     "metadata": {},
     "output_type": "execute_result"
    }
   ],
   "source": [
    "df_back = pd.read_csv(\"stocks_for_yahoo.csv\")\n",
    "df_back"
   ]
  },
  {
   "cell_type": "markdown",
   "id": "loving-reporter",
   "metadata": {},
   "source": [
    "### make new data frame"
   ]
  },
  {
   "cell_type": "code",
   "execution_count": 8,
   "id": "dutch-memory",
   "metadata": {},
   "outputs": [],
   "source": [
    "# df_back = df_back.drop(df_back[df_back['Ticker'] == 'ALXN'].index)  # no 'ALXN' data in yahoo daily"
   ]
  },
  {
   "cell_type": "code",
   "execution_count": 9,
   "id": "considered-charger",
   "metadata": {},
   "outputs": [],
   "source": [
    "# df_back = df_back.drop(df_back[df_back['Ticker'] == 'CARR'].index)  # 'CARR' data in yahoo daily occur KeyError - 'Code'"
   ]
  },
  {
   "cell_type": "code",
   "execution_count": 10,
   "id": "dangerous-rating",
   "metadata": {},
   "outputs": [
    {
     "name": "stdout",
     "output_type": "stream",
     "text": [
      "D:\\mymanchester\\CSImage2\\VMware\\year2_sem1\\summer\\project\\Trading_Bot\\apisetting\n"
     ]
    }
   ],
   "source": [
    "import os\n",
    "print(os.path.abspath('.'))"
   ]
  },
  {
   "cell_type": "code",
   "execution_count": 11,
   "id": "geographic-better",
   "metadata": {},
   "outputs": [],
   "source": [
    "# import datetime as dt\n",
    "# start = dt.datetime(2006, 1, 1)\n",
    "# end = dt.datetime(2015, 11, 30)\n",
    "# data.DataReader('CARR', 'yahoo', start, end)"
   ]
  },
  {
   "cell_type": "code",
   "execution_count": 12,
   "id": "timely-apollo",
   "metadata": {
    "tags": []
   },
   "outputs": [],
   "source": [
    "def get_stock_data():\n",
    "    start_date = '2014-01-01'\n",
    "    end_date = '2018-01-01'\n",
    "    global total_data\n",
    "    total_data = {}\n",
    "    global no_data\n",
    "    no_data = []\n",
    "    for stock in df_back['Ticker']:\n",
    "    #     print(type(stock))\n",
    "        SRC_DATA_FILENAME=stock+'_data.pkl'\n",
    "        try:\n",
    "            tmp_data = pd.read_pickle(SRC_DATA_FILENAME)\n",
    "    #         print('File data found...reading '+ stock + ' data')\n",
    "        except FileNotFoundError:\n",
    "    #         print('File not found...downloading the '+ stock + ' data')\n",
    "            try:    \n",
    "                tmp_data = data.DataReader(stock, 'yahoo', start_date, end_date)\n",
    "            except KeyError:\n",
    "                no_data.append(stock)\n",
    "#                 df_back = df_back.drop(df_back[df_back['Ticker'] == stock].index)\n",
    "                pass\n",
    "#             tmp_data.to_pickle(os.path.abspath('.') + \"\\\\dataset\\\\\"+SRC_DATA_FILENAME)  # already done\n",
    "            tmp_data_signal = pd.DataFrame(index=tmp_data.index)\n",
    "            tmp_data_signal['price'] = tmp_data['Adj Close']\n",
    "            total_data[stock] = tmp_data_signal\n",
    "\n",
    "\n",
    "    # print(total_data)\n",
    "    print(\"all data fetching finished.\")"
   ]
  },
  {
   "cell_type": "code",
   "execution_count": 13,
   "id": "offshore-yorkshire",
   "metadata": {},
   "outputs": [
    {
     "name": "stdout",
     "output_type": "stream",
     "text": [
      "all data fetching finished.\n"
     ]
    }
   ],
   "source": [
    "get_stock_data()"
   ]
  },
  {
   "cell_type": "code",
   "execution_count": 14,
   "id": "enormous-hughes",
   "metadata": {},
   "outputs": [
    {
     "data": {
      "text/plain": [
       "['CARR', 'CTVA', 'DOW', 'FOX', 'FOXA', 'OTIS']"
      ]
     },
     "execution_count": 14,
     "metadata": {},
     "output_type": "execute_result"
    }
   ],
   "source": [
    "no_data"
   ]
  },
  {
   "cell_type": "code",
   "execution_count": 15,
   "id": "extra-portland",
   "metadata": {
    "tags": []
   },
   "outputs": [
    {
     "data": {
      "text/plain": [
       "495"
      ]
     },
     "execution_count": 15,
     "metadata": {},
     "output_type": "execute_result"
    }
   ],
   "source": [
    "len(total_data)"
   ]
  },
  {
   "cell_type": "code",
   "execution_count": 22,
   "id": "elegant-bachelor",
   "metadata": {},
   "outputs": [
    {
     "name": "stdout",
     "output_type": "stream",
     "text": [
      "<class 'dict'>\n"
     ]
    }
   ],
   "source": [
    "print(type(total_data))"
   ]
  },
  {
   "cell_type": "markdown",
   "id": "twelve-closure",
   "metadata": {},
   "source": [
    "### save total data into a 'total_data.pkl' file:"
   ]
  },
  {
   "cell_type": "code",
   "execution_count": 26,
   "id": "parliamentary-possibility",
   "metadata": {},
   "outputs": [],
   "source": [
    "filename_total = os.path.abspath('.') + \"\\\\dataset\\\\\"+\"total_data.pkl\"\n",
    "# total_data.to_pickle(filename_total)  # already done\n",
    "import pickle\n",
    "with open(filename_total, 'wb') as f:\n",
    "     pickle.dump(total_data, f, pickle.HIGHEST_PROTOCOL)"
   ]
  },
  {
   "cell_type": "code",
   "execution_count": 33,
   "id": "sporting-tumor",
   "metadata": {},
   "outputs": [
    {
     "data": {
      "text/html": [
       "<div>\n",
       "<style scoped>\n",
       "    .dataframe tbody tr th:only-of-type {\n",
       "        vertical-align: middle;\n",
       "    }\n",
       "\n",
       "    .dataframe tbody tr th {\n",
       "        vertical-align: top;\n",
       "    }\n",
       "\n",
       "    .dataframe thead th {\n",
       "        text-align: right;\n",
       "    }\n",
       "</style>\n",
       "<table border=\"1\" class=\"dataframe\">\n",
       "  <thead>\n",
       "    <tr style=\"text-align: right;\">\n",
       "      <th></th>\n",
       "      <th>price</th>\n",
       "    </tr>\n",
       "    <tr>\n",
       "      <th>Date</th>\n",
       "      <th></th>\n",
       "    </tr>\n",
       "  </thead>\n",
       "  <tbody>\n",
       "    <tr>\n",
       "      <th>2014-01-02</th>\n",
       "      <td>17.568449</td>\n",
       "    </tr>\n",
       "    <tr>\n",
       "      <th>2014-01-03</th>\n",
       "      <td>17.182545</td>\n",
       "    </tr>\n",
       "    <tr>\n",
       "      <th>2014-01-06</th>\n",
       "      <td>17.276247</td>\n",
       "    </tr>\n",
       "    <tr>\n",
       "      <th>2014-01-07</th>\n",
       "      <td>17.152695</td>\n",
       "    </tr>\n",
       "    <tr>\n",
       "      <th>2014-01-08</th>\n",
       "      <td>17.261322</td>\n",
       "    </tr>\n",
       "    <tr>\n",
       "      <th>2014-01-09</th>\n",
       "      <td>17.040892</td>\n",
       "    </tr>\n",
       "    <tr>\n",
       "      <th>2014-01-10</th>\n",
       "      <td>16.927181</td>\n",
       "    </tr>\n",
       "    <tr>\n",
       "      <th>2014-01-13</th>\n",
       "      <td>17.015799</td>\n",
       "    </tr>\n",
       "    <tr>\n",
       "      <th>2014-01-14</th>\n",
       "      <td>17.354382</td>\n",
       "    </tr>\n",
       "    <tr>\n",
       "      <th>2014-01-15</th>\n",
       "      <td>17.702808</td>\n",
       "    </tr>\n",
       "  </tbody>\n",
       "</table>\n",
       "</div>"
      ],
      "text/plain": [
       "                price\n",
       "Date                 \n",
       "2014-01-02  17.568449\n",
       "2014-01-03  17.182545\n",
       "2014-01-06  17.276247\n",
       "2014-01-07  17.152695\n",
       "2014-01-08  17.261322\n",
       "2014-01-09  17.040892\n",
       "2014-01-10  16.927181\n",
       "2014-01-13  17.015799\n",
       "2014-01-14  17.354382\n",
       "2014-01-15  17.702808"
      ]
     },
     "execution_count": 33,
     "metadata": {},
     "output_type": "execute_result"
    }
   ],
   "source": [
    "'''test for total data .pkl'''\n",
    "tmp_data = pd.read_pickle(filename_total)\n",
    "tmp_data['AAPL'].head(10)   # test for data existence"
   ]
  }
 ],
 "metadata": {
  "kernelspec": {
   "display_name": "Python 3",
   "language": "python",
   "name": "python3"
  },
  "language_info": {
   "codemirror_mode": {
    "name": "ipython",
    "version": 3
   },
   "file_extension": ".py",
   "mimetype": "text/x-python",
   "name": "python",
   "nbconvert_exporter": "python",
   "pygments_lexer": "ipython3",
   "version": "3.8.1"
  }
 },
 "nbformat": 4,
 "nbformat_minor": 5
}
