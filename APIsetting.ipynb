{
 "cells": [
  {
   "cell_type": "markdown",
   "id": "connected-smart",
   "metadata": {},
   "source": [
    "# SETTING UP API"
   ]
  },
  {
   "cell_type": "markdown",
   "id": "freelance-proxy",
   "metadata": {},
   "source": [
    "1. import several libraries:"
   ]
  },
  {
   "cell_type": "code",
   "execution_count": 1,
   "id": "compact-perception",
   "metadata": {},
   "outputs": [],
   "source": [
    "import numpy as np #The Numpy numerical computing library\n",
    "import pandas as pd #The Pandas data science library\n",
    "import requests #The requests library for HTTP requests in Python\n",
    "import xlsxwriter #The XlsxWriter libarary for \n",
    "import math #The Python math module"
   ]
  },
  {
   "cell_type": "markdown",
   "id": "noble-parliament",
   "metadata": {},
   "source": [
    "2. set up"
   ]
  },
  {
   "cell_type": "code",
   "execution_count": 2,
   "id": "patent-customs",
   "metadata": {
    "tags": []
   },
   "outputs": [],
   "source": [
    "# # stock = 'http://finance.yahoo.com/d/quotes.csv?s=<股票名称>&f=<数据列选项>'\n",
    "# # stock_url = 'http://finance.yahoo.com/d/quotes.csv?s=AAPLr'\n",
    "# test = 'http://ichart.yahoo.com/table.csv?s=<string>&a=<int>&b=<int>&c=<int>&d=<int>&e=<int>&f=<int>&g=d&ignore=.csv'\n",
    "# data = requests.get(test).json()\n",
    "# data"
   ]
  },
  {
   "cell_type": "markdown",
   "id": "explicit-hamburg",
   "metadata": {},
   "source": [
    "''' on website rapid API - https://rapidapi.com/sparior/api/yahoo-finance15/ '''"
   ]
  },
  {
   "cell_type": "code",
   "execution_count": 3,
   "id": "current-gabriel",
   "metadata": {
    "tags": []
   },
   "outputs": [],
   "source": [
    "# ''' import news for testing '''\n",
    "# # import requests\n",
    "\n",
    "# url = \"https://yahoo-finance15.p.rapidapi.com/api/yahoo/ne/news\"\n",
    "\n",
    "# headers = {\n",
    "#     'x-rapidapi-key': \"9f6fae673emsha786afc58b93082p1c5fb8jsn4ec87b939b9a\",\n",
    "#     'x-rapidapi-host': \"yahoo-finance15.p.rapidapi.com\"\n",
    "#     }\n",
    "\n",
    "# response = requests.request(\"GET\", url, headers=headers)\n",
    "\n",
    "# # print(response.text)"
   ]
  },
  {
   "cell_type": "code",
   "execution_count": 4,
   "id": "terminal-harbor",
   "metadata": {
    "tags": []
   },
   "outputs": [
    {
     "name": "stdout",
     "output_type": "stream",
     "text": [
      "{'Symbol': 'AAPL', 'AssetType': 'Common Stock', 'Name': 'Apple Inc', 'Description': \"Apple Inc. is an American multinational technology company that specializes in consumer electronics, computer software, and online services. Apple is the world's largest technology company by revenue (totalling $274.5 billion in 2020) and, since January 2021, the world's most valuable company. As of 2021, Apple is the world's fourth-largest PC vendor by unit sales, and fourth-largest smartphone manufacturer. It is one of the Big Five American information technology companies, along with Amazon, Google, Microsoft, and Facebook.\", 'CIK': '320193', 'Exchange': 'NASDAQ', 'Currency': 'USD', 'Country': 'USA', 'Sector': 'TECHNOLOGY', 'Industry': 'ELECTRONIC COMPUTERS', 'Address': 'ONE APPLE PARK WAY, CUPERTINO, CA, UNITED STATES', 'FiscalYearEnd': 'September', 'LatestQuarter': '2021-03-31', 'MarketCapitalization': '2407458144000', 'EBITDA': '110934999000', 'PERatio': '28.51', 'PEGRatio': '2.205', 'BookValue': '3.882', 'DividendPerShare': '0.835', 'DividendYield': '0.0058', 'EPS': '5.11', 'RevenuePerShareTTM': '20.61', 'ProfitMargin': '0.25', 'OperatingMarginTTM': '0.288', 'ReturnOnAssetsTTM': '0.193', 'ReturnOnEquityTTM': '1.271', 'RevenueTTM': '347155005000', 'GrossProfitTTM': '104956000000', 'DilutedEPSTTM': '5.11', 'QuarterlyEarningsGrowthYOY': '1', 'QuarterlyRevenueGrowthYOY': '0.364', 'AnalystTargetPrice': '159.34', 'TrailingPE': '28.51', 'ForwardPE': '26.74', 'PriceToSalesRatioTTM': '7.11', 'PriceToBookRatio': '37.28', 'EVToRevenue': '7.08', 'EVToEBITDA': '21.99', 'Beta': '1.207', '52WeekHigh': '150', '52WeekLow': '102.59', '50DayMovingAverage': '139.32', '200DayMovingAverage': '131.15', 'SharesOutstanding': '16530200000', 'SharesFloat': '16513305000', 'SharesShort': '96355000', 'SharesShortPriorMonth': '90214000', 'ShortRatio': '1.14', 'ShortPercentOutstanding': '0.01', 'ShortPercentFloat': '0.0058', 'PercentInsiders': '0.066', 'PercentInstitutions': '58.54', 'ForwardAnnualDividendRate': '0.88', 'ForwardAnnualDividendYield': '0.006', 'PayoutRatio': '0.223', 'DividendDate': '2021-05-13', 'ExDividendDate': '2021-08-06', 'LastSplitFactor': '4:1', 'LastSplitDate': '2020-08-31'}\n"
     ]
    }
   ],
   "source": [
    "import requests\n",
    "# # symbol = 'AAPL,MSFT'  # for test\n",
    "symbol = 'AAPL'\n",
    "\n",
    "''' - yahoo - '''\n",
    "# url = f\"https://yahoo-finance15.p.rapidapi.com/api/yahoo/qu/quote/{symbol}\"\n",
    "\n",
    "# headers = {\n",
    "#     'x-rapidapi-key': \"9f6fae673emsha786afc58b93082p1c5fb8jsn4ec87b939b9a\",\n",
    "#     'x-rapidapi-host': \"yahoo-finance15.p.rapidapi.com\"\n",
    "#     }\n",
    "\n",
    "# response = requests.request(\"GET\", url, headers=headers)\n",
    "\n",
    "# # print(response.text)\n",
    "# # data = response.text\n",
    "# data = response.json()\n",
    "# # print(data)  # list\n",
    "# data\n",
    "# # print(type(data))\n",
    "\n",
    "''' - alpha vintage - '''\n",
    "# replace the \"demo\" apikey below with your own key from https://www.alphavantage.co/support/#api-key\n",
    "API_KEY = 'DQY2IUH7KONJPJB9'\n",
    "# url = f'https://www.alphavantage.co/query?function=TIME_SERIES_INTRADAY&symbol=IBM&interval=5min&apikey={API_KEY}'\n",
    "url = f'https://www.alphavantage.co/query?function=OVERVIEW&symbol={symbol}&apikey={API_KEY}'\n",
    "\n",
    "r = requests.get(url)\n",
    "data = r.json()\n",
    "\n",
    "print(data)"
   ]
  },
  {
   "cell_type": "code",
   "execution_count": 5,
   "id": "fixed-kenya",
   "metadata": {},
   "outputs": [
    {
     "data": {
      "text/html": [
       "<div>\n",
       "<style scoped>\n",
       "    .dataframe tbody tr th:only-of-type {\n",
       "        vertical-align: middle;\n",
       "    }\n",
       "\n",
       "    .dataframe tbody tr th {\n",
       "        vertical-align: top;\n",
       "    }\n",
       "\n",
       "    .dataframe thead th {\n",
       "        text-align: right;\n",
       "    }\n",
       "</style>\n",
       "<table border=\"1\" class=\"dataframe\">\n",
       "  <thead>\n",
       "    <tr style=\"text-align: right;\">\n",
       "      <th></th>\n",
       "      <th>Ticker</th>\n",
       "      <th>Price</th>\n",
       "      <th>Market Capitalization</th>\n",
       "      <th>Number Of Shares to Buy</th>\n",
       "    </tr>\n",
       "  </thead>\n",
       "  <tbody>\n",
       "  </tbody>\n",
       "</table>\n",
       "</div>"
      ],
      "text/plain": [
       "Empty DataFrame\n",
       "Columns: [Ticker, Price, Market Capitalization, Number Of Shares to Buy]\n",
       "Index: []"
      ]
     },
     "execution_count": 5,
     "metadata": {},
     "output_type": "execute_result"
    }
   ],
   "source": [
    "''' dataframe '''\n",
    "# df = data\n",
    "# df\n",
    "my_columns = ['Ticker', 'Price','Market Capitalization', 'Number Of Shares to Buy']\n",
    "df = pd.DataFrame(columns = my_columns)\n",
    "df"
   ]
  },
  {
   "cell_type": "code",
   "execution_count": 6,
   "id": "legitimate-nursery",
   "metadata": {},
   "outputs": [
    {
     "data": {
      "text/html": [
       "<div>\n",
       "<style scoped>\n",
       "    .dataframe tbody tr th:only-of-type {\n",
       "        vertical-align: middle;\n",
       "    }\n",
       "\n",
       "    .dataframe tbody tr th {\n",
       "        vertical-align: top;\n",
       "    }\n",
       "\n",
       "    .dataframe thead th {\n",
       "        text-align: right;\n",
       "    }\n",
       "</style>\n",
       "<table border=\"1\" class=\"dataframe\">\n",
       "  <thead>\n",
       "    <tr style=\"text-align: right;\">\n",
       "      <th></th>\n",
       "      <th>Ticker</th>\n",
       "      <th>Price</th>\n",
       "      <th>Market Capitalization</th>\n",
       "      <th>Number Of Shares to Buy</th>\n",
       "    </tr>\n",
       "  </thead>\n",
       "  <tbody>\n",
       "    <tr>\n",
       "      <th>0</th>\n",
       "      <td>AAPL</td>\n",
       "      <td>159.34</td>\n",
       "      <td>2407458144000</td>\n",
       "      <td>N/A</td>\n",
       "    </tr>\n",
       "  </tbody>\n",
       "</table>\n",
       "</div>"
      ],
      "text/plain": [
       "  Ticker   Price Market Capitalization Number Of Shares to Buy\n",
       "0   AAPL  159.34         2407458144000                     N/A"
      ]
     },
     "execution_count": 6,
     "metadata": {},
     "output_type": "execute_result"
    }
   ],
   "source": [
    "df = df.append(\n",
    "                                        pd.Series(['AAPL', \n",
    "                                                   data['AnalystTargetPrice'], \n",
    "                                                   data['MarketCapitalization'], \n",
    "                                                   'N/A'], \n",
    "                                                  index = my_columns), \n",
    "                                        ignore_index = True)\n",
    "df"
   ]
  },
  {
   "cell_type": "markdown",
   "id": "rising-literature",
   "metadata": {},
   "source": [
    "## ====================================================="
   ]
  },
  {
   "cell_type": "code",
   "execution_count": 7,
   "id": "crazy-george",
   "metadata": {},
   "outputs": [
    {
     "name": "stdout",
     "output_type": "stream",
     "text": [
      "<class 'pandas.core.frame.DataFrame'>\n"
     ]
    }
   ],
   "source": [
    "''' import 500 stocks' name'''\n",
    "stocks = pd.read_csv('sp_500_stocks.csv')\n",
    "print(type(stocks))"
   ]
  },
  {
   "cell_type": "code",
   "execution_count": 8,
   "id": "purple-sentence",
   "metadata": {},
   "outputs": [],
   "source": [
    "# print(stocks)"
   ]
  },
  {
   "cell_type": "code",
   "execution_count": 9,
   "id": "rocky-uzbekistan",
   "metadata": {},
   "outputs": [],
   "source": [
    "API_KEYS = [\n",
    "#     'DQY2IUH7KONJPJB9',  #yingyu.xu@student.manchester.ac.uk\n",
    "    '7Q6UKNDJ1SV0YVDJ',  #xuyingyu1108@yeah.net\n",
    "    'VSQEYNK8VNZB8YIR',  #1659335946@qq.com\n",
    "    \n",
    "    'M07BSY5KLLAXYX37',\n",
    "    'ECTCRKGMYSF2KWQS',\n",
    "    'Q3ZNYRZV6C5SPG4F',\n",
    "    'RL3E2C98Z02WW3N5',\n",
    "    'HQ95BEFLQHHEO28L',\n",
    "    'T0B56WJC23ITV0K6',\n",
    "    'CSP7673EWG692BFJ'\n",
    "    \n",
    "]"
   ]
  },
  {
   "cell_type": "code",
   "execution_count": 10,
   "id": "express-pendant",
   "metadata": {
    "tags": []
   },
   "outputs": [],
   "source": [
    "ticks = 0\n",
    "apis = 0\n",
    "import time\n",
    "\n",
    "dfnew = pd.DataFrame(columns = my_columns)\n",
    "\n",
    "# for symbol_string in symbol_strings:\n",
    "for symbol_string in stocks['Ticker']:\n",
    "#     print(symbol_strings)\n",
    "\n",
    "    if ticks == 4:\n",
    "#     if data_tmp['note'] != '':\n",
    "        ticks = 0\n",
    "        apis += 1\n",
    "        if apis == 9:\n",
    "            apis = 0\n",
    "        time.sleep(60)\n",
    "    \n",
    "    API_KEY = API_KEYS[apis]\n",
    "    batch_api_call_url = f'https://www.alphavantage.co/query?function=OVERVIEW&symbol={symbol_string}&apikey={API_KEY}'\n",
    "    ticks += 1\n",
    "\n",
    "\n",
    "    response_tmp = requests.get(batch_api_call_url)\n",
    "    data_tmp = response_tmp.json()\n",
    "  \n",
    "    #     print(data_tmp)\n",
    "    if data_tmp == {}:\n",
    "        pass\n",
    "    else:\n",
    "    \n",
    "    \n",
    "\n",
    "        dfnew = dfnew.append(\n",
    "                                        pd.Series([symbol_string, \n",
    "                                                   data_tmp['AnalystTargetPrice'], \n",
    "                                                   data_tmp['MarketCapitalization'], \n",
    "                                                   'N/A'], \n",
    "                                                  index = my_columns), \n",
    "                                        ignore_index = True)"
   ]
  },
  {
   "cell_type": "code",
   "execution_count": 11,
   "id": "previous-commons",
   "metadata": {},
   "outputs": [
    {
     "data": {
      "text/html": [
       "<div>\n",
       "<style scoped>\n",
       "    .dataframe tbody tr th:only-of-type {\n",
       "        vertical-align: middle;\n",
       "    }\n",
       "\n",
       "    .dataframe tbody tr th {\n",
       "        vertical-align: top;\n",
       "    }\n",
       "\n",
       "    .dataframe thead th {\n",
       "        text-align: right;\n",
       "    }\n",
       "</style>\n",
       "<table border=\"1\" class=\"dataframe\">\n",
       "  <thead>\n",
       "    <tr style=\"text-align: right;\">\n",
       "      <th></th>\n",
       "      <th>Ticker</th>\n",
       "      <th>Price</th>\n",
       "      <th>Market Capitalization</th>\n",
       "      <th>Number Of Shares to Buy</th>\n",
       "    </tr>\n",
       "  </thead>\n",
       "  <tbody>\n",
       "    <tr>\n",
       "      <th>0</th>\n",
       "      <td>A</td>\n",
       "      <td>148.94</td>\n",
       "      <td>46326645000</td>\n",
       "      <td>N/A</td>\n",
       "    </tr>\n",
       "    <tr>\n",
       "      <th>1</th>\n",
       "      <td>AAL</td>\n",
       "      <td>18.85</td>\n",
       "      <td>13706685000</td>\n",
       "      <td>N/A</td>\n",
       "    </tr>\n",
       "    <tr>\n",
       "      <th>2</th>\n",
       "      <td>AAP</td>\n",
       "      <td>218.69</td>\n",
       "      <td>13964006000</td>\n",
       "      <td>N/A</td>\n",
       "    </tr>\n",
       "    <tr>\n",
       "      <th>3</th>\n",
       "      <td>AAPL</td>\n",
       "      <td>159.34</td>\n",
       "      <td>2407458144000</td>\n",
       "      <td>N/A</td>\n",
       "    </tr>\n",
       "    <tr>\n",
       "      <th>4</th>\n",
       "      <td>ABBV</td>\n",
       "      <td>124.08</td>\n",
       "      <td>209950573000</td>\n",
       "      <td>N/A</td>\n",
       "    </tr>\n",
       "    <tr>\n",
       "      <th>...</th>\n",
       "      <td>...</td>\n",
       "      <td>...</td>\n",
       "      <td>...</td>\n",
       "      <td>...</td>\n",
       "    </tr>\n",
       "    <tr>\n",
       "      <th>490</th>\n",
       "      <td>YUM</td>\n",
       "      <td>120.9</td>\n",
       "      <td>38819480000</td>\n",
       "      <td>N/A</td>\n",
       "    </tr>\n",
       "    <tr>\n",
       "      <th>491</th>\n",
       "      <td>ZBH</td>\n",
       "      <td>191.19</td>\n",
       "      <td>33890834000</td>\n",
       "      <td>N/A</td>\n",
       "    </tr>\n",
       "    <tr>\n",
       "      <th>492</th>\n",
       "      <td>ZBRA</td>\n",
       "      <td>540.25</td>\n",
       "      <td>29329543000</td>\n",
       "      <td>N/A</td>\n",
       "    </tr>\n",
       "    <tr>\n",
       "      <th>493</th>\n",
       "      <td>ZION</td>\n",
       "      <td>59.98</td>\n",
       "      <td>8573185000</td>\n",
       "      <td>N/A</td>\n",
       "    </tr>\n",
       "    <tr>\n",
       "      <th>494</th>\n",
       "      <td>ZTS</td>\n",
       "      <td>192.81</td>\n",
       "      <td>96909443000</td>\n",
       "      <td>N/A</td>\n",
       "    </tr>\n",
       "  </tbody>\n",
       "</table>\n",
       "<p>495 rows × 4 columns</p>\n",
       "</div>"
      ],
      "text/plain": [
       "    Ticker   Price Market Capitalization Number Of Shares to Buy\n",
       "0        A  148.94           46326645000                     N/A\n",
       "1      AAL   18.85           13706685000                     N/A\n",
       "2      AAP  218.69           13964006000                     N/A\n",
       "3     AAPL  159.34         2407458144000                     N/A\n",
       "4     ABBV  124.08          209950573000                     N/A\n",
       "..     ...     ...                   ...                     ...\n",
       "490    YUM   120.9           38819480000                     N/A\n",
       "491    ZBH  191.19           33890834000                     N/A\n",
       "492   ZBRA  540.25           29329543000                     N/A\n",
       "493   ZION   59.98            8573185000                     N/A\n",
       "494    ZTS  192.81           96909443000                     N/A\n",
       "\n",
       "[495 rows x 4 columns]"
      ]
     },
     "execution_count": 11,
     "metadata": {},
     "output_type": "execute_result"
    }
   ],
   "source": [
    "dfnew"
   ]
  },
  {
   "cell_type": "code",
   "execution_count": 12,
   "id": "conceptual-cutting",
   "metadata": {},
   "outputs": [
    {
     "name": "stdout",
     "output_type": "stream",
     "text": [
      "495\n"
     ]
    }
   ],
   "source": [
    "''' several are not exist '''\n",
    "print(len(dfnew))"
   ]
  }
 ],
 "metadata": {
  "kernelspec": {
   "display_name": "Python 3",
   "language": "python",
   "name": "python3"
  },
  "language_info": {
   "codemirror_mode": {
    "name": "ipython",
    "version": 3
   },
   "file_extension": ".py",
   "mimetype": "text/x-python",
   "name": "python",
   "nbconvert_exporter": "python",
   "pygments_lexer": "ipython3",
   "version": "3.8.1"
  }
 },
 "nbformat": 4,
 "nbformat_minor": 5
}
