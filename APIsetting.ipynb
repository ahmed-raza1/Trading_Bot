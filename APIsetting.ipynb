{
 "cells": [
  {
   "cell_type": "markdown",
   "id": "engaged-vault",
   "metadata": {},
   "source": [
    "# SETTING UP API"
   ]
  },
  {
   "cell_type": "markdown",
   "id": "departmental-trigger",
   "metadata": {},
   "source": [
    "1. import several libraries:"
   ]
  },
  {
   "cell_type": "code",
   "execution_count": 1,
   "id": "boolean-silver",
   "metadata": {},
   "outputs": [],
   "source": [
    "import numpy as np #The Numpy numerical computing library\n",
    "import pandas as pd #The Pandas data science library\n",
    "import requests #The requests library for HTTP requests in Python\n",
    "import xlsxwriter #The XlsxWriter libarary for \n",
    "import math #The Python math module"
   ]
  },
  {
   "cell_type": "markdown",
   "id": "medium-entertainment",
   "metadata": {},
   "source": [
    "2. set up"
   ]
  },
  {
   "cell_type": "code",
   "execution_count": 2,
   "id": "seventh-maple",
   "metadata": {
    "tags": []
   },
   "outputs": [],
   "source": [
    "# # stock = 'http://finance.yahoo.com/d/quotes.csv?s=<股票名称>&f=<数据列选项>'\n",
    "# # stock_url = 'http://finance.yahoo.com/d/quotes.csv?s=AAPLr'\n",
    "# test = 'http://ichart.yahoo.com/table.csv?s=<string>&a=<int>&b=<int>&c=<int>&d=<int>&e=<int>&f=<int>&g=d&ignore=.csv'\n",
    "# data = requests.get(test).json()\n",
    "# data"
   ]
  },
  {
   "cell_type": "markdown",
   "id": "unavailable-mainstream",
   "metadata": {},
   "source": [
    "''' on website rapid API - https://rapidapi.com/sparior/api/yahoo-finance15/ '''"
   ]
  },
  {
   "cell_type": "code",
   "execution_count": 3,
   "id": "metric-chester",
   "metadata": {
    "tags": []
   },
   "outputs": [],
   "source": [
    "''' import news for testing '''\n",
    "# import requests\n",
    "\n",
    "url = \"https://yahoo-finance15.p.rapidapi.com/api/yahoo/ne/news\"\n",
    "\n",
    "headers = {\n",
    "    'x-rapidapi-key': \"9f6fae673emsha786afc58b93082p1c5fb8jsn4ec87b939b9a\",\n",
    "    'x-rapidapi-host': \"yahoo-finance15.p.rapidapi.com\"\n",
    "    }\n",
    "\n",
    "response = requests.request(\"GET\", url, headers=headers)\n",
    "\n",
    "# print(response.text)"
   ]
  },
  {
   "cell_type": "code",
   "execution_count": 4,
   "id": "broadband-learning",
   "metadata": {
    "tags": []
   },
   "outputs": [
    {
     "data": {
      "text/plain": [
       "[{'ask': 145.04,\n",
       "  'askSize': 14,\n",
       "  'averageDailyVolume10Day': 88213185,\n",
       "  'averageDailyVolume3Month': 85057328,\n",
       "  'bid': 145.2,\n",
       "  'bidSize': 18,\n",
       "  'bookValue': 4.146,\n",
       "  'currency': 'USD',\n",
       "  'dividendDate': {'date': '2021-05-13 00:00:00.000000',\n",
       "   'timezone_type': 1,\n",
       "   'timezone': '+00:00'},\n",
       "  'earningsTimestamp': {'date': '2021-07-27 16:30:00.000000',\n",
       "   'timezone_type': 1,\n",
       "   'timezone': '+00:00'},\n",
       "  'earningsTimestampStart': {'date': '2021-10-27 10:59:00.000000',\n",
       "   'timezone_type': 1,\n",
       "   'timezone': '+00:00'},\n",
       "  'earningsTimestampEnd': {'date': '2021-11-01 12:00:00.000000',\n",
       "   'timezone_type': 1,\n",
       "   'timezone': '+00:00'},\n",
       "  'epsForward': 5.34,\n",
       "  'epsTrailingTwelveMonths': 4.449,\n",
       "  'exchange': 'NMS',\n",
       "  'exchangeDataDelayedBy': 0,\n",
       "  'exchangeTimezoneName': 'America/New_York',\n",
       "  'exchangeTimezoneShortName': 'EDT',\n",
       "  'fiftyDayAverage': 138.45343,\n",
       "  'fiftyDayAverageChange': 6.5265656,\n",
       "  'fiftyDayAverageChangePercent': 0.047139067,\n",
       "  'fiftyTwoWeekHigh': 150,\n",
       "  'fiftyTwoWeekHighChange': -5.0200043,\n",
       "  'fiftyTwoWeekHighChangePercent': -0.033466697,\n",
       "  'fiftyTwoWeekLow': 93.7125,\n",
       "  'fiftyTwoWeekLowChange': 51.267494,\n",
       "  'fiftyTwoWeekLowChangePercent': 0.5470721,\n",
       "  'financialCurrency': 'USD',\n",
       "  'forwardPE': 27.14981,\n",
       "  'fullExchangeName': 'NasdaqGS',\n",
       "  'gmtOffSetMilliseconds': -14400000,\n",
       "  'language': 'en-US',\n",
       "  'longName': 'Apple Inc.',\n",
       "  'market': 'us_market',\n",
       "  'marketCap': 2419368132608,\n",
       "  'marketState': 'POST',\n",
       "  'messageBoardId': 'finmb_24937',\n",
       "  'postMarketChange': 0.020004272,\n",
       "  'postMarketChangePercent': 0.013797954,\n",
       "  'postMarketPrice': 145,\n",
       "  'postMarketTime': {'date': '2021-07-28 21:47:26.000000',\n",
       "   'timezone_type': 1,\n",
       "   'timezone': '+00:00'},\n",
       "  'priceHint': 2,\n",
       "  'priceToBook': 34.968643,\n",
       "  'quoteSourceName': 'Nasdaq Real Time Price',\n",
       "  'quoteType': 'EQUITY',\n",
       "  'regularMarketChange': -1.7900085,\n",
       "  'regularMarketChangePercent': -1.219601,\n",
       "  'regularMarketDayHigh': 146.96,\n",
       "  'regularMarketDayLow': 142.54,\n",
       "  'regularMarketOpen': 144.81,\n",
       "  'regularMarketPreviousClose': 146.77,\n",
       "  'regularMarketPrice': 144.98,\n",
       "  'regularMarketTime': {'date': '2021-07-28 20:00:01.000000',\n",
       "   'timezone_type': 1,\n",
       "   'timezone': '+00:00'},\n",
       "  'regularMarketVolume': 113982837,\n",
       "  'sharesOutstanding': 16687599616,\n",
       "  'shortName': 'Apple Inc.',\n",
       "  'sourceInterval': 15,\n",
       "  'symbol': 'AAPL',\n",
       "  'tradeable': False,\n",
       "  'trailingAnnualDividendRate': 0.82,\n",
       "  'trailingAnnualDividendYield': 0.0055869725,\n",
       "  'trailingPE': 32.587097,\n",
       "  'twoHundredDayAverage': 131.05212,\n",
       "  'twoHundredDayAverageChange': 13.927872,\n",
       "  'twoHundredDayAverageChangePercent': 0.10627735}]"
      ]
     },
     "execution_count": 4,
     "metadata": {},
     "output_type": "execute_result"
    }
   ],
   "source": [
    "import requests\n",
    "# symbol = 'AAPL,MSFT'  # for test\n",
    "symbol = 'AAPL'\n",
    "url = f\"https://yahoo-finance15.p.rapidapi.com/api/yahoo/qu/quote/{symbol}\"\n",
    "\n",
    "headers = {\n",
    "    'x-rapidapi-key': \"9f6fae673emsha786afc58b93082p1c5fb8jsn4ec87b939b9a\",\n",
    "    'x-rapidapi-host': \"yahoo-finance15.p.rapidapi.com\"\n",
    "    }\n",
    "\n",
    "response = requests.request(\"GET\", url, headers=headers)\n",
    "\n",
    "# print(response.text)\n",
    "# data = response.text\n",
    "data = response.json()\n",
    "# print(data)  # list\n",
    "data\n",
    "# print(type(data))"
   ]
  },
  {
   "cell_type": "code",
   "execution_count": 5,
   "id": "motivated-swiss",
   "metadata": {},
   "outputs": [
    {
     "data": {
      "text/html": [
       "<div>\n",
       "<style scoped>\n",
       "    .dataframe tbody tr th:only-of-type {\n",
       "        vertical-align: middle;\n",
       "    }\n",
       "\n",
       "    .dataframe tbody tr th {\n",
       "        vertical-align: top;\n",
       "    }\n",
       "\n",
       "    .dataframe thead th {\n",
       "        text-align: right;\n",
       "    }\n",
       "</style>\n",
       "<table border=\"1\" class=\"dataframe\">\n",
       "  <thead>\n",
       "    <tr style=\"text-align: right;\">\n",
       "      <th></th>\n",
       "      <th>Ticker</th>\n",
       "      <th>Price</th>\n",
       "      <th>Market Capitalization</th>\n",
       "      <th>Number Of Shares to Buy</th>\n",
       "    </tr>\n",
       "  </thead>\n",
       "  <tbody>\n",
       "  </tbody>\n",
       "</table>\n",
       "</div>"
      ],
      "text/plain": [
       "Empty DataFrame\n",
       "Columns: [Ticker, Price, Market Capitalization, Number Of Shares to Buy]\n",
       "Index: []"
      ]
     },
     "execution_count": 5,
     "metadata": {},
     "output_type": "execute_result"
    }
   ],
   "source": [
    "''' dataframe '''\n",
    "# df = data\n",
    "# df\n",
    "my_columns = ['Ticker', 'Price','Market Capitalization', 'Number Of Shares to Buy']\n",
    "df = pd.DataFrame(columns = my_columns)\n",
    "df"
   ]
  },
  {
   "cell_type": "code",
   "execution_count": 7,
   "id": "ruled-buddy",
   "metadata": {},
   "outputs": [
    {
     "data": {
      "text/html": [
       "<div>\n",
       "<style scoped>\n",
       "    .dataframe tbody tr th:only-of-type {\n",
       "        vertical-align: middle;\n",
       "    }\n",
       "\n",
       "    .dataframe tbody tr th {\n",
       "        vertical-align: top;\n",
       "    }\n",
       "\n",
       "    .dataframe thead th {\n",
       "        text-align: right;\n",
       "    }\n",
       "</style>\n",
       "<table border=\"1\" class=\"dataframe\">\n",
       "  <thead>\n",
       "    <tr style=\"text-align: right;\">\n",
       "      <th></th>\n",
       "      <th>Ticker</th>\n",
       "      <th>Price</th>\n",
       "      <th>Market Capitalization</th>\n",
       "      <th>Number Of Shares to Buy</th>\n",
       "    </tr>\n",
       "  </thead>\n",
       "  <tbody>\n",
       "    <tr>\n",
       "      <th>0</th>\n",
       "      <td>AAPL</td>\n",
       "      <td>145.04</td>\n",
       "      <td>2419368132608</td>\n",
       "      <td>N/A</td>\n",
       "    </tr>\n",
       "  </tbody>\n",
       "</table>\n",
       "</div>"
      ],
      "text/plain": [
       "  Ticker   Price Market Capitalization Number Of Shares to Buy\n",
       "0   AAPL  145.04         2419368132608                     N/A"
      ]
     },
     "execution_count": 7,
     "metadata": {},
     "output_type": "execute_result"
    }
   ],
   "source": [
    "df = df.append(\n",
    "                                        pd.Series(['AAPL', \n",
    "                                                   data[0]['ask'], \n",
    "                                                   data[0]['marketCap'], \n",
    "                                                   'N/A'], \n",
    "                                                  index = my_columns), \n",
    "                                        ignore_index = True)\n",
    "df"
   ]
  }
 ],
 "metadata": {
  "kernelspec": {
   "display_name": "Python 3",
   "language": "python",
   "name": "python3"
  },
  "language_info": {
   "codemirror_mode": {
    "name": "ipython",
    "version": 3
   },
   "file_extension": ".py",
   "mimetype": "text/x-python",
   "name": "python",
   "nbconvert_exporter": "python",
   "pygments_lexer": "ipython3",
   "version": "3.8.1"
  }
 },
 "nbformat": 4,
 "nbformat_minor": 5
}
